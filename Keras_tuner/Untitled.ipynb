{
 "cells": [
  {
   "cell_type": "code",
   "execution_count": null,
   "id": "117471ac-ca98-4941-a11a-2032daf8bd3e",
   "metadata": {},
   "outputs": [],
   "source": []
  }
 ],
 "metadata": {
  "kernelspec": {
   "display_name": "",
   "name": ""
  },
  "language_info": {
   "name": ""
  }
 },
 "nbformat": 4,
 "nbformat_minor": 5
}
